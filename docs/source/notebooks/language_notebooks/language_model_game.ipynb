{
 "cells": [
  {
   "cell_type": "markdown",
   "id": "3b000618e37afdb3",
   "metadata": {
    "collapsed": false
   },
   "source": [
    "# Explaining a language model for sentiment analysis\n",
    "\n",
    "This notebook shows how we can use `shapiq` to explain the predictions of a language sentiment analysis model. For that, we will create a custom *game* that will be used for the explanation. The benchmark game resulting from this tutorial is available as `shapiq.games.SentimentClassificationGame`.\n",
    "\n",
    "First, we need to install the required packages next to `shapiq`. We will use a language model from the `transformers` library; specifically relying on `torch`."
   ]
  },
  {
   "cell_type": "code",
   "id": "96756a5298128aed",
   "metadata": {
    "collapsed": false,
    "ExecuteTime": {
     "end_time": "2025-04-09T22:45:43.637116Z",
     "start_time": "2025-04-09T22:45:42.979353Z"
    }
   },
   "source": [
    "# Install the required packages\n",
    "!pip install transformers torch"
   ],
   "outputs": [
    {
     "name": "stdout",
     "output_type": "stream",
     "text": [
      "Requirement already satisfied: transformers in /Users/jkang/PycharmProjects/shapiq/.venv/lib/python3.12/site-packages (4.49.0)\r\n",
      "Requirement already satisfied: torch in /Users/jkang/PycharmProjects/shapiq/.venv/lib/python3.12/site-packages (2.6.0)\r\n",
      "Requirement already satisfied: filelock in /Users/jkang/PycharmProjects/shapiq/.venv/lib/python3.12/site-packages (from transformers) (3.18.0)\r\n",
      "Requirement already satisfied: huggingface-hub<1.0,>=0.26.0 in /Users/jkang/PycharmProjects/shapiq/.venv/lib/python3.12/site-packages (from transformers) (0.29.3)\r\n",
      "Requirement already satisfied: numpy>=1.17 in /Users/jkang/PycharmProjects/shapiq/.venv/lib/python3.12/site-packages (from transformers) (1.26.4)\r\n",
      "Requirement already satisfied: packaging>=20.0 in /Users/jkang/PycharmProjects/shapiq/.venv/lib/python3.12/site-packages (from transformers) (24.2)\r\n",
      "Requirement already satisfied: pyyaml>=5.1 in /Users/jkang/PycharmProjects/shapiq/.venv/lib/python3.12/site-packages (from transformers) (6.0.2)\r\n",
      "Requirement already satisfied: regex!=2019.12.17 in /Users/jkang/PycharmProjects/shapiq/.venv/lib/python3.12/site-packages (from transformers) (2024.11.6)\r\n",
      "Requirement already satisfied: requests in /Users/jkang/PycharmProjects/shapiq/.venv/lib/python3.12/site-packages (from transformers) (2.32.3)\r\n",
      "Requirement already satisfied: tokenizers<0.22,>=0.21 in /Users/jkang/PycharmProjects/shapiq/.venv/lib/python3.12/site-packages (from transformers) (0.21.1)\r\n",
      "Requirement already satisfied: safetensors>=0.4.1 in /Users/jkang/PycharmProjects/shapiq/.venv/lib/python3.12/site-packages (from transformers) (0.5.3)\r\n",
      "Requirement already satisfied: tqdm>=4.27 in /Users/jkang/PycharmProjects/shapiq/.venv/lib/python3.12/site-packages (from transformers) (4.67.1)\r\n",
      "Requirement already satisfied: typing-extensions>=4.10.0 in /Users/jkang/PycharmProjects/shapiq/.venv/lib/python3.12/site-packages (from torch) (4.12.2)\r\n",
      "Requirement already satisfied: networkx in /Users/jkang/PycharmProjects/shapiq/.venv/lib/python3.12/site-packages (from torch) (3.4.2)\r\n",
      "Requirement already satisfied: jinja2 in /Users/jkang/PycharmProjects/shapiq/.venv/lib/python3.12/site-packages (from torch) (3.1.6)\r\n",
      "Requirement already satisfied: fsspec in /Users/jkang/PycharmProjects/shapiq/.venv/lib/python3.12/site-packages (from torch) (2025.3.0)\r\n",
      "Requirement already satisfied: setuptools in /Users/jkang/PycharmProjects/shapiq/.venv/lib/python3.12/site-packages (from torch) (77.0.1)\r\n",
      "Requirement already satisfied: sympy==1.13.1 in /Users/jkang/PycharmProjects/shapiq/.venv/lib/python3.12/site-packages (from torch) (1.13.1)\r\n",
      "Requirement already satisfied: mpmath<1.4,>=1.1.0 in /Users/jkang/PycharmProjects/shapiq/.venv/lib/python3.12/site-packages (from sympy==1.13.1->torch) (1.3.0)\r\n",
      "Requirement already satisfied: MarkupSafe>=2.0 in /Users/jkang/PycharmProjects/shapiq/.venv/lib/python3.12/site-packages (from jinja2->torch) (3.0.2)\r\n",
      "Requirement already satisfied: charset-normalizer<4,>=2 in /Users/jkang/PycharmProjects/shapiq/.venv/lib/python3.12/site-packages (from requests->transformers) (3.4.1)\r\n",
      "Requirement already satisfied: idna<4,>=2.5 in /Users/jkang/PycharmProjects/shapiq/.venv/lib/python3.12/site-packages (from requests->transformers) (3.10)\r\n",
      "Requirement already satisfied: urllib3<3,>=1.21.1 in /Users/jkang/PycharmProjects/shapiq/.venv/lib/python3.12/site-packages (from requests->transformers) (2.3.0)\r\n",
      "Requirement already satisfied: certifi>=2017.4.17 in /Users/jkang/PycharmProjects/shapiq/.venv/lib/python3.12/site-packages (from requests->transformers) (2025.1.31)\r\n"
     ]
    }
   ],
   "execution_count": 1
  },
  {
   "cell_type": "code",
   "id": "233a68eadd33ade3",
   "metadata": {
    "collapsed": false,
    "ExecuteTime": {
     "end_time": "2025-04-09T22:45:49.338567Z",
     "start_time": "2025-04-09T22:45:43.642823Z"
    }
   },
   "source": [
    "# Import the required libraries\n",
    "from transformers import pipeline\n",
    "import numpy as np\n",
    "import shapiq\n",
    "\n",
    "shapiq.__version__"
   ],
   "outputs": [
    {
     "name": "stderr",
     "output_type": "stream",
     "text": [
      "/Users/jkang/PycharmProjects/shapiq/.venv/lib/python3.12/site-packages/tqdm/auto.py:21: TqdmWarning: IProgress not found. Please update jupyter and ipywidgets. See https://ipywidgets.readthedocs.io/en/stable/user_install.html\n",
      "  from .autonotebook import tqdm as notebook_tqdm\n"
     ]
    },
    {
     "data": {
      "text/plain": [
       "'1.2.2'"
      ]
     },
     "execution_count": 2,
     "metadata": {},
     "output_type": "execute_result"
    }
   ],
   "execution_count": 2
  },
  {
   "cell_type": "markdown",
   "id": "45f9a6a38b3b0214",
   "metadata": {
    "collapsed": false
   },
   "source": [
    "### Language model\n",
    "We will use a pre-trained BERT model for sentiment analysis. We will use the `transformers` library to load the model and tokenizer. We will use the `lvwerra/distilbert-imdb` model for this tutorial.\n",
    "\n",
    "The model predicts the sentiment of the sentence as **positive**. For this model (and other sentiment-analysis models), the output is a list of dictionaries, where each dictionary contains the `label` and the `score` of the sentiment. The label can be either `POSITIVE` or `NEGATIVE`. The score is the probability of the sentiment being positive or negative. The tokenized sentence contains the tokens of the sentence. The special tokens map contains the special tokens used by the model. We will need the `mask_token` later in the game."
   ]
  },
  {
   "cell_type": "code",
   "id": "50f59cc77301eef0",
   "metadata": {
    "collapsed": false,
    "ExecuteTime": {
     "end_time": "2025-04-09T22:45:50.165932Z",
     "start_time": "2025-04-09T22:45:49.384139Z"
    }
   },
   "source": [
    "# Load the model and tokenizer\n",
    "classifier = pipeline(task=\"sentiment-analysis\", model=\"lvwerra/distilbert-imdb\")\n",
    "tokenizer = classifier.tokenizer\n",
    "\n",
    "test_sentence = \"I love this movie!\"\n",
    "print(f\"Classifier output: {classifier(test_sentence)}\")\n",
    "\n",
    "tokenized_sentence = tokenizer(test_sentence)\n",
    "print(f\"Tokenized sentence: {tokenized_sentence}\")\n",
    "\n",
    "special_tokens = tokenizer.special_tokens_map\n",
    "print(f\"Special tokens: {tokenizer.special_tokens_map}\")\n",
    "\n",
    "mask_toke_id = tokenizer.mask_token_id\n",
    "print(f\"Mask token id: {mask_toke_id}\")"
   ],
   "outputs": [
    {
     "name": "stderr",
     "output_type": "stream",
     "text": [
      "Device set to use mps:0\n"
     ]
    },
    {
     "name": "stdout",
     "output_type": "stream",
     "text": [
      "Classifier output: [{'label': 'POSITIVE', 'score': 0.9951981902122498}]\n",
      "Tokenized sentence: {'input_ids': [101, 1045, 2293, 2023, 3185, 999, 102], 'attention_mask': [1, 1, 1, 1, 1, 1, 1]}\n",
      "Special tokens: {'unk_token': '[UNK]', 'sep_token': '[SEP]', 'pad_token': '[PAD]', 'cls_token': '[CLS]', 'mask_token': '[MASK]'}\n",
      "Mask token id: 103\n"
     ]
    }
   ],
   "execution_count": 3
  },
  {
   "cell_type": "markdown",
   "id": "25e75bdac10f7042",
   "metadata": {
    "collapsed": false
   },
   "source": [
    "We can inspect the behavior of the model by checking the output of the classifier for different sentences and by decoding the tokenized sentences. The `tokenizer.decode` function can be used to decode the tokenized sentence. The `[CLS]` token is used to mark the beginning of the sentence, and the `[SEP]` token is used to mark the end of the sentence. Notice that also the `!` token is tokenized."
   ]
  },
  {
   "cell_type": "code",
   "id": "c3b3b6f4193e7d73",
   "metadata": {
    "collapsed": false,
    "ExecuteTime": {
     "end_time": "2025-04-09T22:45:50.175351Z",
     "start_time": "2025-04-09T22:45:50.172796Z"
    }
   },
   "source": [
    "# Test the tokenizer\n",
    "decoded_sentence = tokenizer.decode(tokenized_sentence[\"input_ids\"])\n",
    "print(f\"Decoded sentence: {decoded_sentence}\")\n",
    "\n",
    "# Remove the start and end tokens\n",
    "tokenized_input = np.asarray(tokenizer(test_sentence)[\"input_ids\"][1:-1])\n",
    "decoded_sentence = tokenizer.decode(tokenized_input)\n",
    "print(\n",
    "    f\"Decoded sentence: {decoded_sentence} - Tokenized input: {tokenized_input} - {len(tokenized_input)} tokens.\"\n",
    ")"
   ],
   "outputs": [
    {
     "name": "stdout",
     "output_type": "stream",
     "text": [
      "Decoded sentence: [CLS] i love this movie! [SEP]\n",
      "Decoded sentence: i love this movie! - Tokenized input: [1045 2293 2023 3185  999] - 5 tokens.\n"
     ]
    }
   ],
   "execution_count": 4
  },
  {
   "cell_type": "markdown",
   "id": "97381c1da32a6c49",
   "metadata": {
    "collapsed": false
   },
   "source": [
    "Since the start and end tokens are always present this information is not relevant for our explanation. To explain this classifier we need to model its behavior as a cooperative game."
   ]
  },
  {
   "cell_type": "markdown",
   "id": "cca96f0af12688",
   "metadata": {
    "collapsed": false
   },
   "source": [
    "### Treating the language model as a game with a value function\n",
    "For all Shapley-based feature attribution methods, we need to model the problem as a cooperative game. We need to define a **value function** that assigns a real-valued worth to each coalition of features. In this case, the features are the tokens of the sentence (without the `[CLS]` and `[SEP]` tokens). The value of the coalition is the sentiment score of the sentence with tokens that are not participating in the coalition `masked` or `removed`.\n",
    "\n",
    "A value function has the following formal definition:\n",
    "$$v: 2^N \\rightarrow \\mathbb{R}$$\n",
    "where $N$ is the set of features (tokens in our case). \n",
    "\n",
    "To be able to model `POSITIVE` and `NEGATIVE` sentiments, we need to map the output of the classifier to be in the range $[-1, 1]$. We can do this with the following function which accepts a list of input texts and returns a vector of the sentiment of the input texts.\n"
   ]
  },
  {
   "cell_type": "code",
   "id": "bce879ce457e9a98",
   "metadata": {
    "collapsed": false,
    "ExecuteTime": {
     "end_time": "2025-04-09T22:45:50.211840Z",
     "start_time": "2025-04-09T22:45:50.191091Z"
    }
   },
   "source": [
    "# Define the model call function\n",
    "def model_call(input_texts: list[str]) -> np.ndarray[float]:\n",
    "    \"\"\"Calls the sentiment classification model with a list of texts.\n",
    "\n",
    "    Args:\n",
    "        input_texts: A list of input texts.\n",
    "\n",
    "    Returns:\n",
    "        A vector of the sentiment of the input texts.\n",
    "    \"\"\"\n",
    "    outputs = classifier(input_texts)\n",
    "    outputs = [\n",
    "        output[\"score\"] * 1 if output[\"label\"] == \"POSITIVE\" else output[\"score\"] * -1\n",
    "        for output in outputs\n",
    "    ]\n",
    "    sentiments = np.array(outputs, dtype=float)\n",
    "\n",
    "    return sentiments\n",
    "\n",
    "\n",
    "# Test the model call function\n",
    "print(f\"Model call: {model_call(['I love this movie!', 'I hate this movie!'])}\")"
   ],
   "outputs": [
    {
     "name": "stdout",
     "output_type": "stream",
     "text": [
      "Model call: [ 0.99519819 -0.95526284]\n"
     ]
    }
   ],
   "execution_count": 5
  },
  {
   "cell_type": "markdown",
   "id": "ee183b3800498675",
   "metadata": {
    "collapsed": false
   },
   "source": [
    "With this model call function, we can now define the value function. In our world the value function accepts one-hot-encoded numpy matrices denoting the coalitions."
   ]
  },
  {
   "cell_type": "code",
   "id": "d176905292347ec1",
   "metadata": {
    "collapsed": false,
    "ExecuteTime": {
     "end_time": "2025-04-09T22:45:50.219973Z",
     "start_time": "2025-04-09T22:45:50.217838Z"
    }
   },
   "source": [
    "# Show coalitions\n",
    "n_players = len(tokenized_sentence[\"input_ids\"]) - 2  # remove [CLS] and [SEP]\n",
    "\n",
    "empty_coalition = np.zeros((1, n_players), dtype=bool)  # empty coalition\n",
    "full_coalition = np.ones((1, n_players), dtype=bool)  # full coalition\n",
    "\n",
    "print(f\"Empty coalition: {empty_coalition}\")\n",
    "print(f\"Full coalition: {full_coalition}\")"
   ],
   "outputs": [
    {
     "name": "stdout",
     "output_type": "stream",
     "text": [
      "Empty coalition: [[False False False False False]]\n",
      "Full coalition: [[ True  True  True  True  True]]\n"
     ]
    }
   ],
   "execution_count": 6
  },
  {
   "cell_type": "markdown",
   "id": "bb8100b1a3fc09e3",
   "metadata": {
    "collapsed": false
   },
   "source": [
    "With these coalitions we can now define the value function. However, for most algorithms it is important that the value function is normalized (also known as centered). This means that the value of the empty coalition is 0. We can achieve this by subtracting the value of the empty coalition from the value of the coalition. This is done in the `shapiq` library, but we can also do it here.\n",
    "\n",
    "Formally, the normalized value function is defined as:\n",
    "$$v_0 := v(S) - v(\\emptyset)$$\n",
    "where $v(S)$ is the value of the coalition $S$ and $v(\\emptyset)$ is the value of the empty coalition."
   ]
  },
  {
   "cell_type": "code",
   "id": "79a5c423622a0904",
   "metadata": {
    "collapsed": false,
    "ExecuteTime": {
     "end_time": "2025-04-09T22:45:50.234387Z",
     "start_time": "2025-04-09T22:45:50.231938Z"
    }
   },
   "source": [
    "# Define the value function\n",
    "def value_function(\n",
    "    coalitions: np.ndarray[bool], tokenized_input: np.ndarray[int], normalization_value: float = 0.0\n",
    ") -> np.ndarray[float]:\n",
    "    \"\"\"Computes the value of the coalitions.\n",
    "\n",
    "    Args:\n",
    "        coalitions: A numpy matrix of shape (n_coalitions, n_players).\n",
    "        tokenized_input: A numpy array of the tokenized input sentence.\n",
    "        normalization_value: The value of the empty coalition. Default is 0.0 (no normalization).\n",
    "\n",
    "    Returns:\n",
    "        A vector of the value of the coalitions.\n",
    "    \"\"\"\n",
    "    texts = []\n",
    "    for coalition in coalitions:\n",
    "        tokenized_coalition = tokenized_input.copy()\n",
    "        # all tokens not in the coalition are set to mask_token_id\n",
    "        tokenized_coalition[~coalition] = mask_toke_id\n",
    "        coalition_text = tokenizer.decode(tokenized_coalition)\n",
    "        texts.append(coalition_text)\n",
    "\n",
    "    # get the sentiment of the texts (call the model as defined above)\n",
    "    sentiments = model_call(texts)\n",
    "\n",
    "    # normalize/center the value function\n",
    "    normalized_sentiments = sentiments - normalization_value\n",
    "\n",
    "    return normalized_sentiments"
   ],
   "outputs": [],
   "execution_count": 7
  },
  {
   "cell_type": "markdown",
   "id": "a8b971656158325b",
   "metadata": {
    "collapsed": false
   },
   "source": [
    "We can test the value function without normalization. The output of the value function for the grand coalition (full coalition) should be the same as the output of the classifier. The output of the value function for the empty coalition is some bias value in the model which often is not zero."
   ]
  },
  {
   "cell_type": "code",
   "id": "22b2201ca139c0d0",
   "metadata": {
    "collapsed": false,
    "ExecuteTime": {
     "end_time": "2025-04-09T22:45:50.279450Z",
     "start_time": "2025-04-09T22:45:50.245969Z"
    }
   },
   "source": [
    "# Test the value function without normalization\n",
    "print(f\"Output of the classifier: {classifier(test_sentence)}\")\n",
    "\n",
    "print(\n",
    "    f\"Value function for the full coalition: {value_function(full_coalition, tokenized_input=tokenized_input)[0]}\"\n",
    ")\n",
    "print(\n",
    "    f\"Value function for the empty coalition: {value_function(empty_coalition, tokenized_input=tokenized_input)[0]}\"\n",
    ")"
   ],
   "outputs": [
    {
     "name": "stdout",
     "output_type": "stream",
     "text": [
      "Output of the classifier: [{'label': 'POSITIVE', 'score': 0.9951981902122498}]\n",
      "Value function for the full coalition: 0.9951981902122498\n",
      "Value function for the empty coalition: 0.5192136764526367\n"
     ]
    }
   ],
   "execution_count": 8
  },
  {
   "cell_type": "markdown",
   "id": "ae20674fc899a202",
   "metadata": {
    "collapsed": false
   },
   "source": [
    "If we normalize the value function, the output of the value function for the empty coalition should be zero."
   ]
  },
  {
   "cell_type": "code",
   "id": "338e1ae439120652",
   "metadata": {
    "collapsed": false,
    "ExecuteTime": {
     "end_time": "2025-04-09T22:45:50.323585Z",
     "start_time": "2025-04-09T22:45:50.288501Z"
    }
   },
   "source": [
    "# Test the value function with normalization\n",
    "normalization_value = float(value_function(empty_coalition, tokenized_input=tokenized_input)[0])\n",
    "print(\n",
    "    f\"Value function for the full coalition: {value_function(full_coalition, tokenized_input=tokenized_input, normalization_value=normalization_value)[0]}\"\n",
    ")\n",
    "print(\n",
    "    f\"Value function for the empty coalition: {value_function(empty_coalition, tokenized_input=tokenized_input, normalization_value=normalization_value)[0]}\"\n",
    ")"
   ],
   "outputs": [
    {
     "name": "stdout",
     "output_type": "stream",
     "text": [
      "Value function for the full coalition: 0.47598451375961304\n",
      "Value function for the empty coalition: 0.0\n"
     ]
    }
   ],
   "execution_count": 9
  },
  {
   "cell_type": "markdown",
   "id": "7be865dbf772ea6c",
   "metadata": {
    "collapsed": false
   },
   "source": [
    "`shapiq` expects the game to be only dependent on the coalitions. For this we can write a small wrapper function:"
   ]
  },
  {
   "cell_type": "code",
   "id": "91e8b195226e1ecb",
   "metadata": {
    "collapsed": false,
    "ExecuteTime": {
     "end_time": "2025-04-09T22:45:50.354334Z",
     "start_time": "2025-04-09T22:45:50.329556Z"
    }
   },
   "source": [
    "# Define the game function\n",
    "def game_fun(coalitions: np.ndarray[bool]) -> np.ndarray[float]:\n",
    "    \"\"\"Wrapper function for the value function.\n",
    "\n",
    "    Args:\n",
    "        coalitions: A numpy matrix of shape (n_coalitions, n_players).\n",
    "\n",
    "    Returns:\n",
    "        A vector of the value of the coalitions.\n",
    "    \"\"\"\n",
    "    return value_function(\n",
    "        coalitions, tokenized_input=tokenized_input, normalization_value=normalization_value\n",
    "    )\n",
    "\n",
    "\n",
    "# Test the game function\n",
    "print(f\"Game for the full coalition: {game_fun(full_coalition)[0]}\")\n",
    "print(f\"Game for the empty coalition: {game_fun(empty_coalition)[0]}\")"
   ],
   "outputs": [
    {
     "name": "stdout",
     "output_type": "stream",
     "text": [
      "Game for the full coalition: 0.47598451375961304\n",
      "Game for the empty coalition: 0.0\n"
     ]
    }
   ],
   "execution_count": 10
  },
  {
   "cell_type": "markdown",
   "id": "5762eda66918ae03",
   "metadata": {
    "collapsed": false
   },
   "source": [
    "We can use this callable already in `shapiq`, but we can also define it as a proper `Game` object, which comes with some additional functionality. Notice that the `value_function` function is now a method of the `SentimentClassificationGame` class and you do not have to worry about the normalization. This is done automatically by the `Game` class which also contains the `__call__` method meaning that this class is also callable."
   ]
  },
  {
   "cell_type": "code",
   "id": "ea94eb7697abad0d",
   "metadata": {
    "collapsed": false,
    "ExecuteTime": {
     "end_time": "2025-04-09T22:45:50.398885Z",
     "start_time": "2025-04-09T22:45:50.360387Z"
    }
   },
   "source": [
    "class SentimentClassificationGame(shapiq.Game):\n",
    "    \"\"\"The sentiment analysis classifier modeled as a cooperative game.\n",
    "\n",
    "    Args:\n",
    "        classifier: The sentiment analysis classifier.\n",
    "        tokenizer: The tokenizer of the classifier.\n",
    "        test_sentence: The sentence to be explained.\n",
    "    \"\"\"\n",
    "\n",
    "    def __init__(self, classifier, tokenizer, test_sentence):\n",
    "        self.classifier = classifier\n",
    "        self.tokenizer = tokenizer\n",
    "        self.test_sentence = test_sentence\n",
    "        self.mask_token_id = tokenizer.mask_token_id\n",
    "        self.tokenized_input = np.asarray(tokenizer(test_sentence)[\"input_ids\"][1:-1])\n",
    "        self.n_players = len(self.tokenized_input)\n",
    "\n",
    "        empty_coalition = np.zeros((1, len(self.tokenized_input)), dtype=bool)\n",
    "        self.normalization_value = float(self.value_function(empty_coalition)[0])\n",
    "        super().__init__(n_players=self.n_players, normalization_value=self.normalization_value)\n",
    "\n",
    "    def value_function(self, coalitions: np.ndarray[bool]) -> np.ndarray[float]:\n",
    "        \"\"\"Computes the value of the coalitions.\n",
    "\n",
    "        Args:\n",
    "            coalitions: A numpy matrix of shape (n_coalitions, n_players).\n",
    "\n",
    "        Returns:\n",
    "            A vector of the value of the coalitions.\n",
    "        \"\"\"\n",
    "        texts = []\n",
    "        for coalition in coalitions:\n",
    "            tokenized_coalition = self.tokenized_input.copy()\n",
    "            # all tokens not in the coalition are set to mask_token_id\n",
    "            tokenized_coalition[~coalition] = self.mask_token_id\n",
    "            coalition_text = self.tokenizer.decode(tokenized_coalition)\n",
    "            texts.append(coalition_text)\n",
    "\n",
    "        # get the sentiment of the texts (call the model as defined above)\n",
    "        sentiments = self._model_call(texts)\n",
    "\n",
    "        return sentiments\n",
    "\n",
    "    def _model_call(self, input_texts: list[str]) -> np.ndarray[float]:\n",
    "        \"\"\"Calls the sentiment classification model with a list of texts.\n",
    "\n",
    "        Args:\n",
    "            input_texts: A list of input texts.\n",
    "\n",
    "        Returns:\n",
    "            A vector of the sentiment of the input texts.\n",
    "        \"\"\"\n",
    "        outputs = self.classifier(input_texts)\n",
    "        outputs = [\n",
    "            output[\"score\"] * 1 if output[\"label\"] == \"POSITIVE\" else output[\"score\"] * -1\n",
    "            for output in outputs\n",
    "        ]\n",
    "        sentiments = np.array(outputs, dtype=float)\n",
    "\n",
    "        return sentiments\n",
    "\n",
    "\n",
    "# Test SentimentClassificationGame\n",
    "game_class = SentimentClassificationGame(classifier, tokenizer, test_sentence)\n",
    "print(f\"Game for the full coalition: {game_class(full_coalition)[0]}\")\n",
    "print(f\"Game for the empty coalition: {game_class(empty_coalition)[0]}\")"
   ],
   "outputs": [
    {
     "name": "stdout",
     "output_type": "stream",
     "text": [
      "Game for the full coalition: 0.47598451375961304\n",
      "Game for the empty coalition: 0.0\n"
     ]
    }
   ],
   "execution_count": 11
  },
  {
   "cell_type": "markdown",
   "id": "5a100294487e50fc",
   "metadata": {
    "collapsed": false
   },
   "source": [
    "### Computing Shapley interactions\n",
    "We can now use the `game_fun` function or the `SentimentClassificationGame` class to compute the Shapley interactions with methods provided in `shapiq`."
   ]
  },
  {
   "cell_type": "code",
   "id": "f62adc49538c8a79",
   "metadata": {
    "collapsed": false,
    "ExecuteTime": {
     "end_time": "2025-04-09T22:45:50.670314Z",
     "start_time": "2025-04-09T22:45:50.405147Z"
    }
   },
   "source": [
    "# Compute Shapley interactions with the ShapIQ approximator for the game function\n",
    "approximator = shapiq.KernelSHAPIQ(n=n_players, max_order=2, index=\"k-SII\")\n",
    "sii_values = approximator.approximate(budget=2**n_players, game=game_fun)\n",
    "sii_values.dict_values"
   ],
   "outputs": [
    {
     "data": {
      "text/plain": [
       "{(): 0.0,\n",
       " (0,): 0.09466195658232196,\n",
       " (1,): 0.25196716912098305,\n",
       " (2,): 0.06853002592924877,\n",
       " (3,): 0.06228179007538279,\n",
       " (4,): 0.15022943706250982,\n",
       " (0, 1): -0.023901333328335276,\n",
       " (0, 2): -0.01557843844990585,\n",
       " (0, 3): 0.01371557583034682,\n",
       " (0, 4): -0.012585074706290673,\n",
       " (1, 2): 0.037776905926936416,\n",
       " (1, 3): -0.07309902734332646,\n",
       " (1, 4): -0.05570836738485396,\n",
       " (2, 3): 0.015661051667629804,\n",
       " (2, 4): -0.06081690340684907,\n",
       " (3, 4): 0.022849747880198064}"
      ]
     },
     "execution_count": 12,
     "metadata": {},
     "output_type": "execute_result"
    }
   ],
   "execution_count": 12
  },
  {
   "cell_type": "code",
   "id": "7641d33a850cdd16",
   "metadata": {
    "collapsed": false,
    "ExecuteTime": {
     "end_time": "2025-04-09T22:45:51.041375Z",
     "start_time": "2025-04-09T22:45:50.733410Z"
    }
   },
   "source": [
    "# Compute Shapley interactions with the ShapIQ approximator for the game object\n",
    "approximator = shapiq.KernelSHAPIQ(n=game_class.n_players, max_order=2, index=\"k-SII\")\n",
    "sii_values = approximator.approximate(budget=2**game_class.n_players, game=game_class)\n",
    "sii_values.dict_values"
   ],
   "outputs": [
    {
     "data": {
      "text/plain": [
       "{(): 0.0,\n",
       " (0,): 0.09466195658232196,\n",
       " (1,): 0.25196716912098305,\n",
       " (2,): 0.06853002592924877,\n",
       " (3,): 0.06228179007538279,\n",
       " (4,): 0.15022943706250982,\n",
       " (0, 1): -0.023901333328335276,\n",
       " (0, 2): -0.01557843844990585,\n",
       " (0, 3): 0.01371557583034682,\n",
       " (0, 4): -0.012585074706290673,\n",
       " (1, 2): 0.037776905926936416,\n",
       " (1, 3): -0.07309902734332646,\n",
       " (1, 4): -0.05570836738485396,\n",
       " (2, 3): 0.015661051667629804,\n",
       " (2, 4): -0.06081690340684907,\n",
       " (3, 4): 0.022849747880198064}"
      ]
     },
     "execution_count": 13,
     "metadata": {},
     "output_type": "execute_result"
    }
   ],
   "execution_count": 13
  },
  {
   "metadata": {},
   "cell_type": "markdown",
   "source": [
    "Now let's say we want to do this for a much larger inputs. We can use the `shapiq.SPEX` approximator which is a sparse\n",
    "transform approximator. This approximator is much faster than the KernelSHAPIQ approximator when the number of\n",
    "players is large and can be used for larger inputs. Instead of computing all interactions it computes only the\n",
    "most important ones."
   ],
   "id": "ef3641f671c8616b"
  },
  {
   "metadata": {
    "ExecuteTime": {
     "end_time": "2025-04-10T03:41:18.460400Z",
     "start_time": "2025-04-10T03:32:10.406182Z"
    }
   },
   "cell_type": "code",
   "source": [
    "text = \\\n",
    "\"\"\"\n",
    "shapiq is a valuable Python library designed for Explainable AI (XAI), focusing specifically on approaches like\n",
    "Shapley values and their extensions. Its core strength lies in providing a unified framework to compute not only individual feature attributions but also sophisticated interaction indices (e.g., Shapley Interaction Index, Banzhaf Index). This allows users to gain deeper insights into how features collaborate or conflict within complex machine learning models, going beyond simple importance scores. A notable weakness stems from the inherent computational complexity of these game-theoretic measures. Calculating exact values, especially for higher-order interactions, is often infeasible, and even approximations can be computationally intensive and time-consuming, particularly for models with many features or large datasets. Despite this, shapiq remains a powerful tool for detailed model inspection.\n",
    "\"\"\"\n",
    "big_game = SentimentClassificationGame(classifier=classifier,\n",
    "                                       tokenizer=tokenizer,\n",
    "                                       test_sentence=text,)\n",
    "print(f\"There are a total of {big_game.n_players} players.\")\n",
    "print(\"The time to run SPEX is about ~10 mins on a M1 MacBook Pro.\")\n",
    "scalable_approximator = shapiq.SPEX(n=big_game.n_players, index=\"SII\")\n",
    "large_sii = scalable_approximator.approximate(budget=32000, game=big_game)\n",
    "print(f\"Game for the full coalition: {game_class(full_coalition)[0]}\")\n",
    "print(f\"Game for the empty coalition: {game_class(empty_coalition)[0]}\")\n",
    "interactions = (list(large_sii.dict_values.items()))\n",
    "interactions.sort(key= lambda x : abs(x[1]), reverse=True)\n",
    "interactions"
   ],
   "id": "ce6bc4d47530fa2b",
   "outputs": [
    {
     "name": "stdout",
     "output_type": "stream",
     "text": [
      "There are a total of 175 players.\n"
     ]
    },
    {
     "name": "stderr",
     "output_type": "stream",
     "text": [
      "100%|██████████| 123/123 [09:04<00:00,  4.43s/it] \n",
      "100%|██████████| 3/3 [00:00<00:00, 414.25it/s]\n"
     ]
    },
    {
     "name": "stdout",
     "output_type": "stream",
     "text": [
      "Game for the full coalition: 0.47598451375961304\n",
      "Game for the empty coalition: 0.0\n"
     ]
    },
    {
     "data": {
      "text/plain": [
       "[((168,), 0.03855663044681029),\n",
       " ((5, 168), -0.028851677277466146),\n",
       " ((100, 168), 0.025028392430243455),\n",
       " ((100,), -0.022782793370779698),\n",
       " ((5,), 0.019994500361958413),\n",
       " ((5, 100, 168), -0.019609554920618128),\n",
       " ((5, 146, 168), -0.017794670855126732),\n",
       " ((146, 168), 0.01660817479941903),\n",
       " ((146,), -0.0162505935196106),\n",
       " ((52, 168), -0.015613168682448749),\n",
       " ((5, 100), 0.015587933861264369),\n",
       " ((79, 168), -0.015478891252381045),\n",
       " ((166,), 0.015001254375811995),\n",
       " ((166, 168), -0.014328482916684655),\n",
       " ((33, 168), -0.013768342550753094),\n",
       " ((6, 168), 0.013410160601956815),\n",
       " ((79,), 0.013131712495190346),\n",
       " ((167, 168), -0.012820038136985693),\n",
       " ((36, 168), -0.012790106827529466),\n",
       " ((167,), 0.01268389404228911),\n",
       " ((6,), -0.012576110348696021),\n",
       " ((129, 130), -0.012537576099176233),\n",
       " ((168, 171), -0.012486047508967358),\n",
       " ((5, 166), -0.01190883314948741),\n",
       " ((100, 166), 0.011790409400241404),\n",
       " ((38, 168), -0.01143029428700485),\n",
       " ((171,), 0.011276195658658577),\n",
       " ((5, 167), -0.010872029517663688),\n",
       " ((52,), 0.010394975959467211),\n",
       " ((6, 166), 0.010202102999134762),\n",
       " ((79, 100), 0.009926257643727746),\n",
       " ((3, 4), -0.009889271905327715),\n",
       " ((5, 146), 0.009809284436902623),\n",
       " ((4, 168), -0.009600870651987996),\n",
       " ((5, 79), -0.00944357327889742),\n",
       " ((31, 168), -0.009302745561865045),\n",
       " ((78, 168), -0.009264736549883355),\n",
       " ((33,), 0.009236166882139397),\n",
       " ((74, 168), -0.009128319567699897),\n",
       " ((38,), 0.009016765629857537),\n",
       " ((39, 168), -0.008558828224677866),\n",
       " ((5, 52), -0.008396095278241285),\n",
       " ((36,), 0.008285135719773733),\n",
       " ((131, 132), 0.008078309730058764),\n",
       " ((3, 168), -0.00791617848615094),\n",
       " ((5, 78), -0.0076225679367780685),\n",
       " ((33, 100), 0.007563555908457535),\n",
       " ((173,), -0.007325745085481464),\n",
       " ((74,), 0.006789605564823966),\n",
       " ((78,), 0.006664000602999352),\n",
       " ((31,), 0.00660325101258733),\n",
       " ((79, 166), -0.006459218177308397),\n",
       " ((52, 146), 0.0064090972584558694),\n",
       " ((160,), -0.006302512773289914),\n",
       " ((142,), 0.006227307680358247),\n",
       " ((39,), 0.0061652712993384385),\n",
       " ((4,), 0.006068872253796678),\n",
       " ((42,), 0.005826182527149596),\n",
       " ((3,), 0.005824701894619846),\n",
       " ((169,), 0.0056476633677758825),\n",
       " ((37,), 0.0054661153770256335),\n",
       " ((40,), 0.005407715522934024),\n",
       " ((101,), -0.005307086669590052),\n",
       " ((130,), -0.005113504100136641),\n",
       " ((132,), -0.004989088206302102),\n",
       " ((148,), 0.004222251917803433),\n",
       " ((18,), 0.003936980038926732),\n",
       " ((81,), 0.003902267380731135),\n",
       " ((136,), -0.003860447567138003),\n",
       " ((27,), 0.0037699021717033736),\n",
       " ((131,), 0.00360983474997849),\n",
       " ((125,), 0.003075579283531846),\n",
       " ((135,), -0.0030223114824876555),\n",
       " ((), 0.0),\n",
       " ((129,), 0.0)]"
      ]
     },
     "execution_count": 28,
     "metadata": {},
     "output_type": "execute_result"
    }
   ],
   "execution_count": 28
  }
 ],
 "metadata": {
  "kernelspec": {
   "display_name": "Python 3",
   "language": "python",
   "name": "python3"
  },
  "language_info": {
   "codemirror_mode": {
    "name": "ipython",
    "version": 3
   },
   "file_extension": ".py",
   "mimetype": "text/x-python",
   "name": "python",
   "nbconvert_exporter": "python",
   "pygments_lexer": "ipython3",
   "version": "3.11.9"
  }
 },
 "nbformat": 4,
 "nbformat_minor": 5
}
